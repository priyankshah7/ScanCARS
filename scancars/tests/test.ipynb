{
 "cells": [
  {
   "cell_type": "code",
   "execution_count": 1,
   "metadata": {
    "collapsed": true
   },
   "outputs": [],
   "source": [
    "import numpy as np\n",
    "import time\n",
    "from ctypes import *\n",
    "import matplotlib.pyplot as plt\n",
    "%matplotlib notebook\n",
    "from andorsdk.pyandor import Andor\n",
    "\n",
    "# Loading the Andor SDK and the dll\n",
    "cam = Andor()\n",
    "dll = cdll.LoadLibrary(\"C:\\\\Program Files\\\\Andor iXon\\\\Drivers\\\\atmcd64d\")"
   ]
  },
  {
   "cell_type": "code",
   "execution_count": 2,
   "metadata": {},
   "outputs": [
    {
     "name": "stdout",
     "output_type": "stream",
     "text": [
      "Andor: error. Unknown error.\n"
     ]
    }
   ],
   "source": [
    "# Initializing the camera\n",
    "messageInitialize = cam.Initialize()\n",
    "if messageInitialize is not None:\n",
    "    print(messageInitialize)"
   ]
  },
  {
   "cell_type": "code",
   "execution_count": null,
   "metadata": {
    "collapsed": true
   },
   "outputs": [],
   "source": [
    "# Setting the initial settings for the camera\n",
    "cam.SetShutter(1, 2, 0, 0)\n",
    "cam.SetReadMode(2)\n",
    "\n",
    "RandomTrackposition = np.array([165, 198, 211, 244])\n",
    "\n",
    "cam.SetRandomTracks(2, RandomTrackposition)\n",
    "cam.GetNumberADChannels()\n",
    "cam.SetADChannel(1)\n",
    "cam.SetTriggerMode(0)\n",
    "cam.GetDetector()\n",
    "cam.SetHSSpeed(1, 0)\n",
    "cam.SetVSSpeed(3)"
   ]
  },
  {
   "cell_type": "code",
   "execution_count": null,
   "metadata": {
    "collapsed": true
   },
   "outputs": [],
   "source": [
    "# Setting up settings for a single scan\n",
    "cam.SetAcquisitionMode(1)\n",
    "cam.SetShutter(1, 1, 0, 0)\n",
    "\n",
    "def getdata():\n",
    "    dim = 512 * 2\n",
    "    imagearray = c_int * dim\n",
    "    cimage = imagearray()\n",
    "\n",
    "    messageGetData = dll.GetAcquiredData(pointer(cimage), dim)\n",
    "    if messageGetData is not None:\n",
    "        print(messageGetData)\n",
    "    \n",
    "    return cimage"
   ]
  },
  {
   "cell_type": "code",
   "execution_count": null,
   "metadata": {
    "collapsed": true,
    "scrolled": false
   },
   "outputs": [],
   "source": [
    "ii = 0\n",
    "plt.figure()\n",
    "while ii < 50:\n",
    "    # Taking a single scan\n",
    "    cam.SetExposureTime(0.05)\n",
    "    cam.StartAcquisition()\n",
    "    \n",
    "    messageGetStatus = cam.GetStatus()\n",
    "    while messageGetStatus != \"DRV_IDLE\":\n",
    "        time.sleep(0.01)\n",
    "        messageGetStatus = cam.GetStatus()\n",
    "    \n",
    "    # Getting data and plotting it\n",
    "    cimage = getdata()\n",
    "    image = cimage[:]\n",
    "    imagenp = np.asarray(image)\n",
    "\n",
    "    track1 = imagenp[0:511]\n",
    "    track2 = imagenp[512:1023]\n",
    "    trackdiff = np.subtract(track1, track2)\n",
    "\n",
    "    plt.cla()\n",
    "    plt.plot(track1)\n",
    "    plt.plot(track2)\n",
    "    plt.plot(trackdiff)\n",
    "    plt.show()\n",
    "    \n",
    "    ii += 1"
   ]
  },
  {
   "cell_type": "code",
   "execution_count": null,
   "metadata": {},
   "outputs": [],
   "source": [
    "# Shutting down the camera\n",
    "messageShutdown = cam.ShutDown()\n",
    "print(messageShutdown)"
   ]
  },
  {
   "cell_type": "code",
   "execution_count": null,
   "metadata": {},
   "outputs": [],
   "source": [
    "dll.ShutDown()"
   ]
  },
  {
   "cell_type": "code",
   "execution_count": null,
   "metadata": {
    "collapsed": true
   },
   "outputs": [],
   "source": []
  }
 ],
 "metadata": {
  "kernelspec": {
   "display_name": "Python 3",
   "language": "python",
   "name": "python3"
  },
  "language_info": {
   "codemirror_mode": {
    "name": "ipython",
    "version": 3
   },
   "file_extension": ".py",
   "mimetype": "text/x-python",
   "name": "python",
   "nbconvert_exporter": "python",
   "pygments_lexer": "ipython3",
   "version": "3.6.3"
  }
 },
 "nbformat": 4,
 "nbformat_minor": 2
}
