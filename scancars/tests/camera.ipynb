{
 "cells": [
  {
   "cell_type": "code",
   "execution_count": 1,
   "metadata": {},
   "outputs": [],
   "source": [
    "import numpy as np\n",
    "import ctypes\n",
    "import matplotlib.pyplot as plt\n",
    "import pyqtgraph as pg\n",
    "\n",
    "from andor import Cam\n",
    "\n",
    "andor = Cam()"
   ]
  },
  {
   "cell_type": "code",
   "execution_count": 2,
   "metadata": {},
   "outputs": [
    {
     "name": "stdout",
     "output_type": "stream",
     "text": [
      "Andor: Initialize error. DRV_NOT_AVAILABLE\n"
     ]
    }
   ],
   "source": [
    "randtrack = np.array([154, 187, 211, 244])\n",
    "\n",
    "errorinitialize = andor.initialize()\n",
    "if errorinitialize != 'DRV_SUCCESS':\n",
    "    print('Andor: Initialize error. ' + errorinitialize)\n",
    "andor.getdetector()\n",
    "andor.setshutter(1, 2, 0, 0)\n",
    "andor.setreadmode(2)\n",
    "andor.setrandomtracks(2, randtrack)\n",
    "andor.setadchannel(1)\n",
    "andor.settriggermode(0)\n",
    "andor.sethsspeed(1, 0)\n",
    "andor.setvsspeed(4)\n",
    "\n",
    "andor.dim = andor.width * andor.randomtracks"
   ]
  },
  {
   "cell_type": "code",
   "execution_count": null,
   "metadata": {
    "collapsed": true
   },
   "outputs": [],
   "source": [
    "def acquire(numacq): \n",
    "    ii = 0\n",
    "    andor.setacquisitionmode(1)\n",
    "    andor.setshutter(1, 1, 0, 0)\n",
    "    \n",
    "    while ii < numacq:\n",
    "        andor.setexposuretime(0.1)\n",
    "        andor.startacquisition()\n",
    "        andor.waitforacquisition()\n",
    "        andor.getacquireddata()\n",
    "\n",
    "        track1 = andor.imagearray[0:andor.width-1]\n",
    "        track2 = andor.imagearray[andor.width:(2*andor.width)-1]\n",
    "        trackdiff = track2 - track1\n",
    "        \n",
    "        pg.plot(track1)\n",
    "        \n",
    "        ii += 1\n",
    "    \n",
    "    return track1, track2, trackdiff"
   ]
  },
  {
   "cell_type": "code",
   "execution_count": null,
   "metadata": {},
   "outputs": [],
   "source": [
    "import cProfile\n",
    "cProfile.run('acquire(numacq=5)')"
   ]
  },
  {
   "cell_type": "code",
   "execution_count": null,
   "metadata": {},
   "outputs": [],
   "source": [
    "andor.shutdown()"
   ]
  },
  {
   "cell_type": "code",
   "execution_count": null,
   "metadata": {
    "collapsed": true
   },
   "outputs": [],
   "source": []
  }
 ],
 "metadata": {
  "kernelspec": {
   "display_name": "Python 3",
   "language": "python",
   "name": "python3"
  },
  "language_info": {
   "codemirror_mode": {
    "name": "ipython",
    "version": 3
   },
   "file_extension": ".py",
   "mimetype": "text/x-python",
   "name": "python",
   "nbconvert_exporter": "python",
   "pygments_lexer": "ipython3",
   "version": "3.6.3"
  }
 },
 "nbformat": 4,
 "nbformat_minor": 2
}
